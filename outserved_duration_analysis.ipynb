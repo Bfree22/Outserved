{
 "cells": [
  {
   "cell_type": "markdown",
   "id": "arbitrary-theory",
   "metadata": {
    "papermill": {
     "duration": 0.035906,
     "end_time": "2021-07-01T14:39:31.884986",
     "exception": false,
     "start_time": "2021-07-01T14:39:31.849080",
     "status": "completed"
    },
    "tags": []
   },
   "source": [
    "# **Outserved Analytics**\n",
    "This notebook visualizes data gathered for Outserved. \n",
    "\n",
    "By Brock Freeman and Brendan Blacklock \n",
    "\n",
    "# **Overview**\n",
    "* Understanding the Data\n",
    "* Data Cleaning\n",
    "* Data Models"
   ]
  },
  {
   "cell_type": "code",
   "execution_count": 122,
   "id": "ambient-theta",
   "metadata": {
    "_cell_guid": "b1076dfc-b9ad-4769-8c92-a6c4dae69d19",
    "_uuid": "8f2839f25d086af736a60e9eeb907d3b93b6e0e5",
    "execution": {
     "iopub.execute_input": "2021-07-01T14:39:31.968503Z",
     "iopub.status.busy": "2021-07-01T14:39:31.967722Z",
     "iopub.status.idle": "2021-07-01T14:39:32.030294Z",
     "shell.execute_reply": "2021-07-01T14:39:32.030838Z",
     "shell.execute_reply.started": "2021-07-01T14:16:32.523895Z"
    },
    "papermill": {
     "duration": 0.10988,
     "end_time": "2021-07-01T14:39:32.031132",
     "exception": false,
     "start_time": "2021-07-01T14:39:31.921252",
     "status": "completed"
    },
    "tags": []
   },
   "outputs": [],
   "source": [
    "# Import libraries\n",
    "\n",
    "import numpy as np\n",
    "import pandas as pd \n",
    "import matplotlib.pyplot as plt\n",
    "import seaborn as sns\n",
    "import hvplot.pandas\n",
    "\n",
    "%matplotlib inline"
   ]
  },
  {
   "cell_type": "markdown",
   "id": "inside-lying",
   "metadata": {
    "papermill": {
     "duration": 0.035334,
     "end_time": "2021-07-01T14:39:32.101210",
     "exception": false,
     "start_time": "2021-07-01T14:39:32.065876",
     "status": "completed"
    },
    "tags": []
   },
   "source": [
    "# Understanding the Data\n",
    "* Read cleanedGeofenceLog.csv into Dataframe and Clean Up Unwanted Columns"
   ]
  },
  {
   "cell_type": "code",
   "execution_count": 95,
   "id": "effective-morrison",
   "metadata": {
    "execution": {
     "iopub.execute_input": "2021-07-01T14:39:32.180598Z",
     "iopub.status.busy": "2021-07-01T14:39:32.179881Z",
     "iopub.status.idle": "2021-07-01T14:39:32.625217Z",
     "shell.execute_reply": "2021-07-01T14:39:32.624422Z",
     "shell.execute_reply.started": "2021-07-01T14:37:06.433067Z"
    },
    "papermill": {
     "duration": 0.489001,
     "end_time": "2021-07-01T14:39:32.625383",
     "exception": false,
     "start_time": "2021-07-01T14:39:32.136382",
     "status": "completed"
    },
    "tags": []
   },
   "outputs": [],
   "source": [
    "# Read CSV into DataFrame\n",
    "user_file_path = 'cleanedGeofenceLog.csv'\n",
    "user_data = pd.read_csv(user_file_path)"
   ]
  },
  {
   "cell_type": "code",
   "execution_count": 96,
   "id": "e9ee9cd1",
   "metadata": {},
   "outputs": [],
   "source": [
    "# Drop unwanted columns\n",
    "user_data = user_data.drop(columns=[\"Unnamed: 0\", \"|\"])\n",
    "user_data\n",
    "\n",
    "# Define Target (X, y)\n",
    "X = user_data.drop(columns=[\"duration\"])\n",
    "y = user_data[\"duration\"]"
   ]
  },
  {
   "cell_type": "markdown",
   "id": "parallel-cabin",
   "metadata": {
    "papermill": {
     "duration": 0.035764,
     "end_time": "2021-07-01T14:39:32.697619",
     "exception": false,
     "start_time": "2021-07-01T14:39:32.661855",
     "status": "completed"
    },
    "tags": []
   },
   "source": [
    "* Preview First Few Rows for User and Geofence Data"
   ]
  },
  {
   "cell_type": "code",
   "execution_count": 97,
   "id": "comfortable-slave",
   "metadata": {
    "execution": {
     "iopub.execute_input": "2021-07-01T14:39:32.776487Z",
     "iopub.status.busy": "2021-07-01T14:39:32.775799Z",
     "iopub.status.idle": "2021-07-01T14:39:32.795912Z",
     "shell.execute_reply": "2021-07-01T14:39:32.796468Z",
     "shell.execute_reply.started": "2021-07-01T13:29:06.534351Z"
    },
    "papermill": {
     "duration": 0.063428,
     "end_time": "2021-07-01T14:39:32.796670",
     "exception": false,
     "start_time": "2021-07-01T14:39:32.733242",
     "status": "completed"
    },
    "scrolled": true,
    "tags": []
   },
   "outputs": [
    {
     "data": {
      "text/html": [
       "<div>\n",
       "<style scoped>\n",
       "    .dataframe tbody tr th:only-of-type {\n",
       "        vertical-align: middle;\n",
       "    }\n",
       "\n",
       "    .dataframe tbody tr th {\n",
       "        vertical-align: top;\n",
       "    }\n",
       "\n",
       "    .dataframe thead th {\n",
       "        text-align: right;\n",
       "    }\n",
       "</style>\n",
       "<table border=\"1\" class=\"dataframe\">\n",
       "  <thead>\n",
       "    <tr style=\"text-align: right;\">\n",
       "      <th></th>\n",
       "      <th>objectId</th>\n",
       "      <th>|_____type</th>\n",
       "      <th>|__iso</th>\n",
       "      <th>createdAt</th>\n",
       "      <th>updatedAt</th>\n",
       "      <th>duration</th>\n",
       "    </tr>\n",
       "  </thead>\n",
       "  <tbody>\n",
       "    <tr>\n",
       "      <th>0</th>\n",
       "      <td>DdrIqhearL</td>\n",
       "      <td>Date</td>\n",
       "      <td>2019-07-19T06:31:26.473Z</td>\n",
       "      <td>2019-07-19T06:31:26.481Z</td>\n",
       "      <td>2021-04-29T23:18:02.582Z</td>\n",
       "      <td>13.0</td>\n",
       "    </tr>\n",
       "    <tr>\n",
       "      <th>1</th>\n",
       "      <td>fPtuD03PHN</td>\n",
       "      <td>Date</td>\n",
       "      <td>2019-07-19T06:31:35.319Z</td>\n",
       "      <td>2019-07-19T06:31:35.322Z</td>\n",
       "      <td>2021-04-29T23:18:02.582Z</td>\n",
       "      <td>4.0</td>\n",
       "    </tr>\n",
       "    <tr>\n",
       "      <th>2</th>\n",
       "      <td>DdhUfCgPql</td>\n",
       "      <td>Date</td>\n",
       "      <td>2019-07-19T12:38:49.807Z</td>\n",
       "      <td>2019-07-19T12:38:49.819Z</td>\n",
       "      <td>2021-04-29T23:18:02.582Z</td>\n",
       "      <td>5.0</td>\n",
       "    </tr>\n",
       "    <tr>\n",
       "      <th>3</th>\n",
       "      <td>tWuABtXsXP</td>\n",
       "      <td>Date</td>\n",
       "      <td>2019-07-19T12:46:49.838Z</td>\n",
       "      <td>2019-07-19T12:46:49.842Z</td>\n",
       "      <td>2021-04-29T23:18:02.582Z</td>\n",
       "      <td>27.0</td>\n",
       "    </tr>\n",
       "    <tr>\n",
       "      <th>4</th>\n",
       "      <td>Y0Xhk8VeA4</td>\n",
       "      <td>Date</td>\n",
       "      <td>2019-07-19T13:41:17.449Z</td>\n",
       "      <td>2019-07-19T13:41:17.451Z</td>\n",
       "      <td>2021-04-29T23:18:02.583Z</td>\n",
       "      <td>0.0</td>\n",
       "    </tr>\n",
       "  </tbody>\n",
       "</table>\n",
       "</div>"
      ],
      "text/plain": [
       "     objectId |_____type                    |__iso                 createdAt  \\\n",
       "0  DdrIqhearL       Date  2019-07-19T06:31:26.473Z  2019-07-19T06:31:26.481Z   \n",
       "1  fPtuD03PHN       Date  2019-07-19T06:31:35.319Z  2019-07-19T06:31:35.322Z   \n",
       "2  DdhUfCgPql       Date  2019-07-19T12:38:49.807Z  2019-07-19T12:38:49.819Z   \n",
       "3  tWuABtXsXP       Date  2019-07-19T12:46:49.838Z  2019-07-19T12:46:49.842Z   \n",
       "4  Y0Xhk8VeA4       Date  2019-07-19T13:41:17.449Z  2019-07-19T13:41:17.451Z   \n",
       "\n",
       "                  updatedAt  duration  \n",
       "0  2021-04-29T23:18:02.582Z      13.0  \n",
       "1  2021-04-29T23:18:02.582Z       4.0  \n",
       "2  2021-04-29T23:18:02.582Z       5.0  \n",
       "3  2021-04-29T23:18:02.582Z      27.0  \n",
       "4  2021-04-29T23:18:02.583Z       0.0  "
      ]
     },
     "execution_count": 97,
     "metadata": {},
     "output_type": "execute_result"
    }
   ],
   "source": [
    "user_data.head()"
   ]
  },
  {
   "cell_type": "markdown",
   "id": "foreign-airline",
   "metadata": {
    "papermill": {
     "duration": 0.035773,
     "end_time": "2021-07-01T14:39:32.955829",
     "exception": false,
     "start_time": "2021-07-01T14:39:32.920056",
     "status": "completed"
    },
    "tags": []
   },
   "source": [
    "* Check for Missing Values"
   ]
  },
  {
   "cell_type": "code",
   "execution_count": 98,
   "id": "impossible-thought",
   "metadata": {
    "execution": {
     "iopub.execute_input": "2021-07-01T14:39:33.039564Z",
     "iopub.status.busy": "2021-07-01T14:39:33.038591Z",
     "iopub.status.idle": "2021-07-01T14:39:33.043267Z",
     "shell.execute_reply": "2021-07-01T14:39:33.042753Z",
     "shell.execute_reply.started": "2021-07-01T13:29:06.579581Z"
    },
    "papermill": {
     "duration": 0.050621,
     "end_time": "2021-07-01T14:39:33.043427",
     "exception": false,
     "start_time": "2021-07-01T14:39:32.992806",
     "status": "completed"
    },
    "tags": []
   },
   "outputs": [
    {
     "data": {
      "text/plain": [
       "objectId      0\n",
       "|_____type    0\n",
       "|__iso        0\n",
       "createdAt     0\n",
       "updatedAt     0\n",
       "duration      0\n",
       "dtype: int64"
      ]
     },
     "execution_count": 98,
     "metadata": {},
     "output_type": "execute_result"
    }
   ],
   "source": [
    "# Check Missing Data in user_data\n",
    "missing_user_data = user_data.isnull().sum()\n",
    "missing_user_data[0:len(missing_user_data)]"
   ]
  },
  {
   "cell_type": "markdown",
   "id": "acute-subscription",
   "metadata": {
    "papermill": {
     "duration": 0.037826,
     "end_time": "2021-07-01T14:39:33.297661",
     "exception": false,
     "start_time": "2021-07-01T14:39:33.259835",
     "status": "completed"
    },
    "tags": []
   },
   "source": [
    "No Missing Data in user_data\n"
   ]
  },
  {
   "cell_type": "markdown",
   "id": "social-fishing",
   "metadata": {
    "papermill": {
     "duration": 0.040814,
     "end_time": "2021-07-01T14:39:35.776236",
     "exception": false,
     "start_time": "2021-07-01T14:39:35.735422",
     "status": "completed"
    },
    "tags": []
   },
   "source": [
    "# User Duration"
   ]
  },
  {
   "cell_type": "code",
   "execution_count": 99,
   "id": "6e4ebf26",
   "metadata": {},
   "outputs": [],
   "source": [
    "duration = user_data[[\"createdAt\", \"duration\"]]"
   ]
  },
  {
   "cell_type": "code",
   "execution_count": 100,
   "id": "neutral-skating",
   "metadata": {
    "execution": {
     "iopub.execute_input": "2021-07-01T14:39:35.862020Z",
     "iopub.status.busy": "2021-07-01T14:39:35.861214Z",
     "iopub.status.idle": "2021-07-01T14:39:35.869246Z",
     "shell.execute_reply": "2021-07-01T14:39:35.869751Z",
     "shell.execute_reply.started": "2021-07-01T13:29:08.386022Z"
    },
    "papermill": {
     "duration": 0.052546,
     "end_time": "2021-07-01T14:39:35.869971",
     "exception": false,
     "start_time": "2021-07-01T14:39:35.817425",
     "status": "completed"
    },
    "scrolled": true,
    "tags": []
   },
   "outputs": [
    {
     "data": {
      "text/plain": [
       "<bound method IndexOpsMixin.value_counts of 0        13.0\n",
       "1         4.0\n",
       "2         5.0\n",
       "3        27.0\n",
       "4         0.0\n",
       "         ... \n",
       "53811     1.0\n",
       "53812    11.0\n",
       "53813     1.0\n",
       "53814     1.0\n",
       "53815     6.0\n",
       "Name: duration, Length: 53816, dtype: float64>"
      ]
     },
     "execution_count": 100,
     "metadata": {},
     "output_type": "execute_result"
    }
   ],
   "source": [
    "user_data[\"duration\"].value_counts"
   ]
  },
  {
   "cell_type": "code",
   "execution_count": 101,
   "id": "884d7a0f",
   "metadata": {
    "scrolled": false
   },
   "outputs": [],
   "source": [
    "value_counts = duration[\"duration\"].value_counts()\n",
    "value_counts_df = pd.DataFrame(value_counts)\n",
    "value_counts_df = value_counts_df.rename_axis([\"count\"]).reset_index()"
   ]
  },
  {
   "cell_type": "code",
   "execution_count": 102,
   "id": "83480712",
   "metadata": {
    "scrolled": true
   },
   "outputs": [
    {
     "data": {
      "text/html": [
       "<div>\n",
       "<style scoped>\n",
       "    .dataframe tbody tr th:only-of-type {\n",
       "        vertical-align: middle;\n",
       "    }\n",
       "\n",
       "    .dataframe tbody tr th {\n",
       "        vertical-align: top;\n",
       "    }\n",
       "\n",
       "    .dataframe thead th {\n",
       "        text-align: right;\n",
       "    }\n",
       "</style>\n",
       "<table border=\"1\" class=\"dataframe\">\n",
       "  <thead>\n",
       "    <tr style=\"text-align: right;\">\n",
       "      <th></th>\n",
       "      <th>count</th>\n",
       "      <th>duration</th>\n",
       "    </tr>\n",
       "  </thead>\n",
       "  <tbody>\n",
       "    <tr>\n",
       "      <th>0</th>\n",
       "      <td>1.0</td>\n",
       "      <td>14227</td>\n",
       "    </tr>\n",
       "    <tr>\n",
       "      <th>1</th>\n",
       "      <td>0.0</td>\n",
       "      <td>13304</td>\n",
       "    </tr>\n",
       "    <tr>\n",
       "      <th>2</th>\n",
       "      <td>2.0</td>\n",
       "      <td>5416</td>\n",
       "    </tr>\n",
       "    <tr>\n",
       "      <th>3</th>\n",
       "      <td>3.0</td>\n",
       "      <td>2180</td>\n",
       "    </tr>\n",
       "    <tr>\n",
       "      <th>4</th>\n",
       "      <td>4.0</td>\n",
       "      <td>1443</td>\n",
       "    </tr>\n",
       "  </tbody>\n",
       "</table>\n",
       "</div>"
      ],
      "text/plain": [
       "   count  duration\n",
       "0    1.0     14227\n",
       "1    0.0     13304\n",
       "2    2.0      5416\n",
       "3    3.0      2180\n",
       "4    4.0      1443"
      ]
     },
     "execution_count": 102,
     "metadata": {},
     "output_type": "execute_result"
    }
   ],
   "source": [
    "value_counts_df.head()"
   ]
  },
  {
   "cell_type": "code",
   "execution_count": 103,
   "id": "02abca40",
   "metadata": {},
   "outputs": [],
   "source": [
    "created_df = duration.drop(columns=[\"duration\"])\n",
    "duration_df = pd.concat([created_df, value_counts_df], axis=1, join=\"inner\")"
   ]
  },
  {
   "cell_type": "code",
   "execution_count": 125,
   "id": "fbbe8fdf",
   "metadata": {},
   "outputs": [
    {
     "data": {
      "text/html": [
       "<div>\n",
       "<style scoped>\n",
       "    .dataframe tbody tr th:only-of-type {\n",
       "        vertical-align: middle;\n",
       "    }\n",
       "\n",
       "    .dataframe tbody tr th {\n",
       "        vertical-align: top;\n",
       "    }\n",
       "\n",
       "    .dataframe thead th {\n",
       "        text-align: right;\n",
       "    }\n",
       "</style>\n",
       "<table border=\"1\" class=\"dataframe\">\n",
       "  <thead>\n",
       "    <tr style=\"text-align: right;\">\n",
       "      <th></th>\n",
       "      <th>createdAt</th>\n",
       "      <th>Duration (Seconds)</th>\n",
       "      <th>Count</th>\n",
       "    </tr>\n",
       "  </thead>\n",
       "  <tbody>\n",
       "    <tr>\n",
       "      <th>0</th>\n",
       "      <td>2019-07-19T06:31:26.481Z</td>\n",
       "      <td>1.0</td>\n",
       "      <td>14227</td>\n",
       "    </tr>\n",
       "    <tr>\n",
       "      <th>1</th>\n",
       "      <td>2019-07-19T06:31:35.322Z</td>\n",
       "      <td>0.0</td>\n",
       "      <td>13304</td>\n",
       "    </tr>\n",
       "    <tr>\n",
       "      <th>2</th>\n",
       "      <td>2019-07-19T12:38:49.819Z</td>\n",
       "      <td>2.0</td>\n",
       "      <td>5416</td>\n",
       "    </tr>\n",
       "    <tr>\n",
       "      <th>3</th>\n",
       "      <td>2019-07-19T12:46:49.842Z</td>\n",
       "      <td>3.0</td>\n",
       "      <td>2180</td>\n",
       "    </tr>\n",
       "    <tr>\n",
       "      <th>4</th>\n",
       "      <td>2019-07-19T13:41:17.451Z</td>\n",
       "      <td>4.0</td>\n",
       "      <td>1443</td>\n",
       "    </tr>\n",
       "  </tbody>\n",
       "</table>\n",
       "</div>"
      ],
      "text/plain": [
       "                  createdAt  Duration (Seconds)  Count\n",
       "0  2019-07-19T06:31:26.481Z                 1.0  14227\n",
       "1  2019-07-19T06:31:35.322Z                 0.0  13304\n",
       "2  2019-07-19T12:38:49.819Z                 2.0   5416\n",
       "3  2019-07-19T12:46:49.842Z                 3.0   2180\n",
       "4  2019-07-19T13:41:17.451Z                 4.0   1443"
      ]
     },
     "execution_count": 125,
     "metadata": {},
     "output_type": "execute_result"
    }
   ],
   "source": [
    "duration_df.columns = [\"createdAt\", \"Duration (Seconds)\", \"Count\"]\n",
    "duration_df.head()"
   ]
  },
  {
   "cell_type": "markdown",
   "id": "41a7d198",
   "metadata": {},
   "source": [
    "* There is a wide range of durations, let's narrow it down to how many users had a duration under 5 seconds."
   ]
  },
  {
   "cell_type": "code",
   "execution_count": 127,
   "id": "e4cab097",
   "metadata": {},
   "outputs": [
    {
     "data": {
      "text/html": [
       "<div>\n",
       "<style scoped>\n",
       "    .dataframe tbody tr th:only-of-type {\n",
       "        vertical-align: middle;\n",
       "    }\n",
       "\n",
       "    .dataframe tbody tr th {\n",
       "        vertical-align: top;\n",
       "    }\n",
       "\n",
       "    .dataframe thead th {\n",
       "        text-align: right;\n",
       "    }\n",
       "</style>\n",
       "<table border=\"1\" class=\"dataframe\">\n",
       "  <thead>\n",
       "    <tr style=\"text-align: right;\">\n",
       "      <th></th>\n",
       "      <th>createdAt</th>\n",
       "      <th>Duration (Seconds)</th>\n",
       "      <th>Count</th>\n",
       "    </tr>\n",
       "  </thead>\n",
       "  <tbody>\n",
       "    <tr>\n",
       "      <th>0</th>\n",
       "      <td>2019-07-19T06:31:26.481Z</td>\n",
       "      <td>1.0</td>\n",
       "      <td>14227</td>\n",
       "    </tr>\n",
       "    <tr>\n",
       "      <th>1</th>\n",
       "      <td>2019-07-19T06:31:35.322Z</td>\n",
       "      <td>0.0</td>\n",
       "      <td>13304</td>\n",
       "    </tr>\n",
       "    <tr>\n",
       "      <th>2</th>\n",
       "      <td>2019-07-19T12:38:49.819Z</td>\n",
       "      <td>2.0</td>\n",
       "      <td>5416</td>\n",
       "    </tr>\n",
       "    <tr>\n",
       "      <th>3</th>\n",
       "      <td>2019-07-19T12:46:49.842Z</td>\n",
       "      <td>3.0</td>\n",
       "      <td>2180</td>\n",
       "    </tr>\n",
       "    <tr>\n",
       "      <th>4</th>\n",
       "      <td>2019-07-19T13:41:17.451Z</td>\n",
       "      <td>4.0</td>\n",
       "      <td>1443</td>\n",
       "    </tr>\n",
       "    <tr>\n",
       "      <th>5</th>\n",
       "      <td>2019-07-20T08:27:02.047Z</td>\n",
       "      <td>5.0</td>\n",
       "      <td>1180</td>\n",
       "    </tr>\n",
       "  </tbody>\n",
       "</table>\n",
       "</div>"
      ],
      "text/plain": [
       "                  createdAt  Duration (Seconds)  Count\n",
       "0  2019-07-19T06:31:26.481Z                 1.0  14227\n",
       "1  2019-07-19T06:31:35.322Z                 0.0  13304\n",
       "2  2019-07-19T12:38:49.819Z                 2.0   5416\n",
       "3  2019-07-19T12:46:49.842Z                 3.0   2180\n",
       "4  2019-07-19T13:41:17.451Z                 4.0   1443\n",
       "5  2019-07-20T08:27:02.047Z                 5.0   1180"
      ]
     },
     "execution_count": 127,
     "metadata": {},
     "output_type": "execute_result"
    }
   ],
   "source": [
    "# Find total amount of users who's duration was under 5 seconds\n",
    "under_5_sec = duration_df[duration_df[\"Duration (Seconds)\"] <= 5.0]\n",
    "\n",
    "# Count the values for < 5\n",
    "under_5_sec"
   ]
  },
  {
   "cell_type": "code",
   "execution_count": 137,
   "id": "2109db03",
   "metadata": {},
   "outputs": [
    {
     "data": {},
     "metadata": {},
     "output_type": "display_data"
    },
    {
     "data": {
      "application/vnd.holoviews_exec.v0+json": "",
      "text/html": [
       "<div id='1365'>\n",
       "\n",
       "\n",
       "\n",
       "\n",
       "\n",
       "  <div class=\"bk-root\" id=\"a12b3c35-7a84-4f42-ac2b-18c867b11213\" data-root-id=\"1365\"></div>\n",
       "</div>\n",
       "<script type=\"application/javascript\">(function(root) {\n",
       "  function embed_document(root) {\n",
       "    var docs_json = {\"54976998-c64c-45c9-b5ec-0346c776c619\":{\"defs\":[],\"roots\":{\"references\":[{\"attributes\":{\"bottom\":{\"value\":0},\"fill_alpha\":{\"value\":1.0},\"fill_color\":{\"value\":\"gold\"},\"hatch_alpha\":{\"value\":1.0},\"hatch_color\":{\"value\":\"black\"},\"hatch_scale\":{\"value\":12.0},\"hatch_weight\":{\"value\":1.0},\"line_alpha\":{\"value\":1.0},\"line_cap\":{\"value\":\"butt\"},\"line_color\":{\"value\":\"black\"},\"line_dash\":{\"value\":[]},\"line_dash_offset\":{\"value\":0},\"line_join\":{\"value\":\"bevel\"},\"line_width\":{\"value\":1},\"top\":{\"field\":\"Count\"},\"width\":{\"value\":0.8},\"x\":{\"field\":\"Duration_left_parenthesis_Seconds_right_parenthesis\"}},\"id\":\"1407\",\"type\":\"VBar\"},{\"attributes\":{\"source\":{\"id\":\"1399\"}},\"id\":\"1406\",\"type\":\"CDSView\"},{\"attributes\":{\"data_source\":{\"id\":\"1399\"},\"glyph\":{\"id\":\"1402\"},\"hover_glyph\":null,\"muted_glyph\":{\"id\":\"1404\"},\"nonselection_glyph\":{\"id\":\"1403\"},\"selection_glyph\":{\"id\":\"1407\"},\"view\":{\"id\":\"1406\"}},\"id\":\"1405\",\"type\":\"GlyphRenderer\"},{\"attributes\":{},\"id\":\"1380\",\"type\":\"CategoricalTicker\"},{\"attributes\":{\"bottom_units\":\"screen\",\"fill_alpha\":0.5,\"fill_color\":\"lightgrey\",\"left_units\":\"screen\",\"level\":\"overlay\",\"line_alpha\":1.0,\"line_color\":\"black\",\"line_dash\":[4,4],\"line_width\":2,\"right_units\":\"screen\",\"syncable\":false,\"top_units\":\"screen\"},\"id\":\"1391\",\"type\":\"BoxAnnotation\"},{\"attributes\":{\"callback\":null,\"renderers\":[{\"id\":\"1405\"}],\"tags\":[\"hv_created\"],\"tooltips\":[[\"Duration (Seconds)\",\"@{Duration_left_parenthesis_Seconds_right_parenthesis}\"],[\"Count\",\"@{Count}\"]]},\"id\":\"1369\",\"type\":\"HoverTool\"},{\"attributes\":{},\"id\":\"1408\",\"type\":\"AllLabels\"},{\"attributes\":{},\"id\":\"1400\",\"type\":\"Selection\"},{\"attributes\":{\"factors\":[\"1\",\"0\",\"2\",\"3\",\"4\",\"5\"],\"tags\":[[[\"Duration (Seconds)\",\"Duration (Seconds)\",null]]]},\"id\":\"1367\",\"type\":\"FactorRange\"},{\"attributes\":{},\"id\":\"1375\",\"type\":\"CategoricalScale\"},{\"attributes\":{\"text\":\"Users Avg Time Inside Geofence under 5 Seconds\",\"text_color\":\"black\",\"text_font_size\":\"12pt\"},\"id\":\"1371\",\"type\":\"Title\"},{\"attributes\":{\"margin\":[5,5,5,5],\"name\":\"HSpacer02084\",\"sizing_mode\":\"stretch_width\"},\"id\":\"1434\",\"type\":\"Spacer\"},{\"attributes\":{\"end\":15531.7,\"reset_end\":15531.7,\"reset_start\":0.0,\"tags\":[[[\"Count\",\"Count\",null]]]},\"id\":\"1368\",\"type\":\"Range1d\"},{\"attributes\":{\"below\":[{\"id\":\"1379\"}],\"center\":[{\"id\":\"1381\"},{\"id\":\"1385\"}],\"height\":300,\"left\":[{\"id\":\"1382\"}],\"margin\":[5,5,5,5],\"min_border_bottom\":10,\"min_border_left\":10,\"min_border_right\":10,\"min_border_top\":10,\"renderers\":[{\"id\":\"1405\"}],\"sizing_mode\":\"fixed\",\"title\":{\"id\":\"1371\"},\"toolbar\":{\"id\":\"1392\"},\"width\":700,\"x_range\":{\"id\":\"1367\"},\"x_scale\":{\"id\":\"1375\"},\"y_range\":{\"id\":\"1368\"},\"y_scale\":{\"id\":\"1377\"}},\"id\":\"1370\",\"subtype\":\"Figure\",\"type\":\"Plot\"},{\"attributes\":{\"data\":{\"Count\":[14227,13304,5416,2180,1443,1180],\"Duration_left_parenthesis_Seconds_right_parenthesis\":[\"1\",\"0\",\"2\",\"3\",\"4\",\"5\"]},\"selected\":{\"id\":\"1400\"},\"selection_policy\":{\"id\":\"1422\"}},\"id\":\"1399\",\"type\":\"ColumnDataSource\"},{\"attributes\":{\"axis\":{\"id\":\"1379\"},\"grid_line_color\":null,\"ticker\":null},\"id\":\"1381\",\"type\":\"Grid\"},{\"attributes\":{},\"id\":\"1377\",\"type\":\"LinearScale\"},{\"attributes\":{\"axis\":{\"id\":\"1382\"},\"dimension\":1,\"grid_line_color\":null,\"ticker\":null},\"id\":\"1385\",\"type\":\"Grid\"},{\"attributes\":{},\"id\":\"1412\",\"type\":\"AllLabels\"},{\"attributes\":{},\"id\":\"1387\",\"type\":\"PanTool\"},{\"attributes\":{\"axis_label\":\"Duration (Seconds)\",\"formatter\":{\"id\":\"1409\"},\"major_label_policy\":{\"id\":\"1408\"},\"ticker\":{\"id\":\"1380\"}},\"id\":\"1379\",\"type\":\"CategoricalAxis\"},{\"attributes\":{},\"id\":\"1409\",\"type\":\"CategoricalTickFormatter\"},{\"attributes\":{\"axis_label\":\"Count\",\"formatter\":{\"id\":\"1411\"},\"major_label_policy\":{\"id\":\"1412\"},\"ticker\":{\"id\":\"1383\"}},\"id\":\"1382\",\"type\":\"LinearAxis\"},{\"attributes\":{},\"id\":\"1383\",\"type\":\"BasicTicker\"},{\"attributes\":{},\"id\":\"1411\",\"type\":\"BasicTickFormatter\"},{\"attributes\":{\"margin\":[5,5,5,5],\"name\":\"HSpacer02083\",\"sizing_mode\":\"stretch_width\"},\"id\":\"1366\",\"type\":\"Spacer\"},{\"attributes\":{},\"id\":\"1386\",\"type\":\"SaveTool\"},{\"attributes\":{\"overlay\":{\"id\":\"1391\"}},\"id\":\"1389\",\"type\":\"BoxZoomTool\"},{\"attributes\":{},\"id\":\"1388\",\"type\":\"WheelZoomTool\"},{\"attributes\":{},\"id\":\"1390\",\"type\":\"ResetTool\"},{\"attributes\":{\"active_multi\":null,\"tools\":[{\"id\":\"1369\"},{\"id\":\"1386\"},{\"id\":\"1387\"},{\"id\":\"1388\"},{\"id\":\"1389\"},{\"id\":\"1390\"}]},\"id\":\"1392\",\"type\":\"Toolbar\"},{\"attributes\":{},\"id\":\"1422\",\"type\":\"UnionRenderers\"},{\"attributes\":{\"fill_alpha\":{\"value\":0.2},\"fill_color\":{\"value\":\"gold\"},\"line_alpha\":{\"value\":0.2},\"top\":{\"field\":\"Count\"},\"width\":{\"value\":0.8},\"x\":{\"field\":\"Duration_left_parenthesis_Seconds_right_parenthesis\"}},\"id\":\"1404\",\"type\":\"VBar\"},{\"attributes\":{\"fill_color\":{\"value\":\"gold\"},\"top\":{\"field\":\"Count\"},\"width\":{\"value\":0.8},\"x\":{\"field\":\"Duration_left_parenthesis_Seconds_right_parenthesis\"}},\"id\":\"1402\",\"type\":\"VBar\"},{\"attributes\":{\"children\":[{\"id\":\"1366\"},{\"id\":\"1370\"},{\"id\":\"1434\"}],\"margin\":[0,0,0,0],\"name\":\"Row02079\",\"tags\":[\"embedded\"]},\"id\":\"1365\",\"type\":\"Row\"},{\"attributes\":{\"fill_alpha\":{\"value\":0.1},\"fill_color\":{\"value\":\"gold\"},\"line_alpha\":{\"value\":0.1},\"top\":{\"field\":\"Count\"},\"width\":{\"value\":0.8},\"x\":{\"field\":\"Duration_left_parenthesis_Seconds_right_parenthesis\"}},\"id\":\"1403\",\"type\":\"VBar\"}],\"root_ids\":[\"1365\"]},\"title\":\"Bokeh Application\",\"version\":\"2.3.1\"}};\n",
       "    var render_items = [{\"docid\":\"54976998-c64c-45c9-b5ec-0346c776c619\",\"root_ids\":[\"1365\"],\"roots\":{\"1365\":\"a12b3c35-7a84-4f42-ac2b-18c867b11213\"}}];\n",
       "    root.Bokeh.embed.embed_items_notebook(docs_json, render_items);\n",
       "  }\n",
       "  if (root.Bokeh !== undefined && root.Bokeh.Panel !== undefined) {\n",
       "    embed_document(root);\n",
       "  } else {\n",
       "    var attempts = 0;\n",
       "    var timer = setInterval(function(root) {\n",
       "      if (root.Bokeh !== undefined && root.Bokeh.Panel !== undefined) {\n",
       "        clearInterval(timer);\n",
       "        embed_document(root);\n",
       "      } else if (document.readyState == \"complete\") {\n",
       "        attempts++;\n",
       "        if (attempts > 100) {\n",
       "          clearInterval(timer);\n",
       "          console.log(\"Bokeh: ERROR: Unable to run BokehJS code because BokehJS library is missing\");\n",
       "        }\n",
       "      }\n",
       "    }, 10, root)\n",
       "  }\n",
       "})(window);</script>"
      ],
      "text/plain": [
       ":Bars   [Duration (Seconds)]   (Count)"
      ]
     },
     "execution_count": 137,
     "metadata": {
      "application/vnd.holoviews_exec.v0+json": {
       "id": "1365"
      }
     },
     "output_type": "execute_result"
    }
   ],
   "source": [
    "under_5_sec.hvplot.bar(x='Duration (Seconds)',y=\"Count\", color=\"gold\",legend=True,title=\"Users Avg Time Inside Geofence under 5 Seconds\")"
   ]
  },
  {
   "cell_type": "code",
   "execution_count": 130,
   "id": "b59fbb11",
   "metadata": {},
   "outputs": [],
   "source": [
    "# Find total amount of users who's duration was over 5 seconds\n",
    "over_5_seconds = duration_df[duration_df[\"Duration (Seconds)\"] >= 5.0]\n",
    "\n",
    "# Count the values for > 5\n",
    "columns_ = over_5_seconds[\"Duration (Seconds)\"].value_counts()"
   ]
  },
  {
   "cell_type": "code",
   "execution_count": 135,
   "id": "09e00edf",
   "metadata": {},
   "outputs": [
    {
     "data": {
      "text/plain": [
       "5    5.0\n",
       "6    6.0\n",
       "7    7.0\n",
       "8    8.0\n",
       "9    9.0\n",
       "Name: Duration (Seconds), dtype: float64"
      ]
     },
     "execution_count": 135,
     "metadata": {},
     "output_type": "execute_result"
    }
   ],
   "source": [
    "# Display first few rows of the new dataframe\n",
    "over_5_seconds[\"Duration (Seconds)\"].sort_values(ascending=True).head()"
   ]
  },
  {
   "cell_type": "code",
   "execution_count": 136,
   "id": "47424bc8",
   "metadata": {},
   "outputs": [
    {
     "data": {},
     "metadata": {},
     "output_type": "display_data"
    },
    {
     "data": {
      "application/vnd.holoviews_exec.v0+json": "",
      "text/html": [
       "<div id='1244'>\n",
       "\n",
       "\n",
       "\n",
       "\n",
       "\n",
       "  <div class=\"bk-root\" id=\"c0d531f5-0cbd-409b-bee8-7b6cb86a71f9\" data-root-id=\"1244\"></div>\n",
       "</div>\n",
       "<script type=\"application/javascript\">(function(root) {\n",
       "  function embed_document(root) {\n",
       "    var docs_json = {\"3bf7585f-36dc-4777-91a6-957860fdbba5\":{\"defs\":[],\"roots\":{\"references\":[{\"attributes\":{\"axis_label\":\"Duration (Seconds)\",\"formatter\":{\"id\":\"1288\"},\"major_label_policy\":{\"id\":\"1287\"},\"ticker\":{\"id\":\"1259\"}},\"id\":\"1258\",\"type\":\"CategoricalAxis\"},{\"attributes\":{},\"id\":\"1290\",\"type\":\"BasicTickFormatter\"},{\"attributes\":{\"axis\":{\"id\":\"1258\"},\"grid_line_color\":null,\"ticker\":null},\"id\":\"1260\",\"type\":\"Grid\"},{\"attributes\":{\"fill_color\":{\"value\":\"green\"},\"top\":{\"field\":\"Count\"},\"width\":{\"value\":0.8},\"x\":{\"field\":\"Duration_left_parenthesis_Seconds_right_parenthesis\"}},\"id\":\"1281\",\"type\":\"VBar\"},{\"attributes\":{},\"id\":\"1291\",\"type\":\"AllLabels\"},{\"attributes\":{},\"id\":\"1259\",\"type\":\"CategoricalTicker\"},{\"attributes\":{},\"id\":\"1267\",\"type\":\"WheelZoomTool\"},{\"attributes\":{},\"id\":\"1288\",\"type\":\"CategoricalTickFormatter\"},{\"attributes\":{},\"id\":\"1301\",\"type\":\"UnionRenderers\"},{\"attributes\":{},\"id\":\"1262\",\"type\":\"BasicTicker\"},{\"attributes\":{\"axis\":{\"id\":\"1261\"},\"dimension\":1,\"grid_line_color\":null,\"ticker\":null},\"id\":\"1264\",\"type\":\"Grid\"},{\"attributes\":{},\"id\":\"1266\",\"type\":\"PanTool\"},{\"attributes\":{\"active_multi\":null,\"tools\":[{\"id\":\"1248\"},{\"id\":\"1265\"},{\"id\":\"1266\"},{\"id\":\"1267\"},{\"id\":\"1268\"},{\"id\":\"1269\"}]},\"id\":\"1271\",\"type\":\"Toolbar\"},{\"attributes\":{},\"id\":\"1265\",\"type\":\"SaveTool\"},{\"attributes\":{\"overlay\":{\"id\":\"1270\"}},\"id\":\"1268\",\"type\":\"BoxZoomTool\"},{\"attributes\":{},\"id\":\"1269\",\"type\":\"ResetTool\"},{\"attributes\":{},\"id\":\"1279\",\"type\":\"Selection\"},{\"attributes\":{\"fill_alpha\":{\"value\":0.2},\"fill_color\":{\"value\":\"green\"},\"line_alpha\":{\"value\":0.2},\"top\":{\"field\":\"Count\"},\"width\":{\"value\":0.8},\"x\":{\"field\":\"Duration_left_parenthesis_Seconds_right_parenthesis\"}},\"id\":\"1283\",\"type\":\"VBar\"},{\"attributes\":{\"axis_label\":\"Count\",\"formatter\":{\"id\":\"1290\"},\"major_label_policy\":{\"id\":\"1291\"},\"ticker\":{\"id\":\"1262\"}},\"id\":\"1261\",\"type\":\"LinearAxis\"},{\"attributes\":{\"children\":[{\"id\":\"1245\"},{\"id\":\"1249\"},{\"id\":\"1313\"}],\"margin\":[0,0,0,0],\"name\":\"Row01928\",\"tags\":[\"embedded\"]},\"id\":\"1244\",\"type\":\"Row\"},{\"attributes\":{\"fill_alpha\":{\"value\":0.1},\"fill_color\":{\"value\":\"green\"},\"line_alpha\":{\"value\":0.1},\"top\":{\"field\":\"Count\"},\"width\":{\"value\":0.8},\"x\":{\"field\":\"Duration_left_parenthesis_Seconds_right_parenthesis\"}},\"id\":\"1282\",\"type\":\"VBar\"},{\"attributes\":{\"margin\":[5,5,5,5],\"name\":\"HSpacer01932\",\"sizing_mode\":\"stretch_width\"},\"id\":\"1245\",\"type\":\"Spacer\"},{\"attributes\":{\"bottom\":{\"value\":0},\"fill_alpha\":{\"value\":1.0},\"fill_color\":{\"value\":\"green\"},\"hatch_alpha\":{\"value\":1.0},\"hatch_color\":{\"value\":\"black\"},\"hatch_scale\":{\"value\":12.0},\"hatch_weight\":{\"value\":1.0},\"line_alpha\":{\"value\":1.0},\"line_cap\":{\"value\":\"butt\"},\"line_color\":{\"value\":\"black\"},\"line_dash\":{\"value\":[]},\"line_dash_offset\":{\"value\":0},\"line_join\":{\"value\":\"bevel\"},\"line_width\":{\"value\":1},\"top\":{\"field\":\"Count\"},\"width\":{\"value\":0.8},\"x\":{\"field\":\"Duration_left_parenthesis_Seconds_right_parenthesis\"}},\"id\":\"1286\",\"type\":\"VBar\"},{\"attributes\":{\"text\":\"Users Avg Time Inside Geofence over 5 Seconds\",\"text_color\":\"black\",\"text_font_size\":\"12pt\"},\"id\":\"1250\",\"type\":\"Title\"},{\"attributes\":{\"source\":{\"id\":\"1278\"}},\"id\":\"1285\",\"type\":\"CDSView\"},{\"attributes\":{\"data_source\":{\"id\":\"1278\"},\"glyph\":{\"id\":\"1281\"},\"hover_glyph\":null,\"muted_glyph\":{\"id\":\"1283\"},\"nonselection_glyph\":{\"id\":\"1282\"},\"selection_glyph\":{\"id\":\"1286\"},\"view\":{\"id\":\"1285\"}},\"id\":\"1284\",\"type\":\"GlyphRenderer\"},{\"attributes\":{\"bottom_units\":\"screen\",\"fill_alpha\":0.5,\"fill_color\":\"lightgrey\",\"left_units\":\"screen\",\"level\":\"overlay\",\"line_alpha\":1.0,\"line_color\":\"black\",\"line_dash\":[4,4],\"line_width\":2,\"right_units\":\"screen\",\"syncable\":false,\"top_units\":\"screen\"},\"id\":\"1270\",\"type\":\"BoxAnnotation\"},{\"attributes\":{\"data\":{\"Count\":[1180,925,824,703,647,541,497,490,428,392,366,365,336,315,310,304,293,291,283,273,268,267,244,239,239,235,235,234,234,230,228,223,220,220,218,216,216,212,208,207,206,206,201,197,193,191,191,190,188,188,181,181,167,160,150,100],\"Duration_left_parenthesis_Seconds_right_parenthesis\":[\"5\",\"6\",\"7\",\"8\",\"9\",\"10\",\"12\",\"11\",\"14\",\"13\",\"15\",\"16\",\"17\",\"20\",\"18\",\"19\",\"21\",\"22\",\"24\",\"23\",\"25\",\"26\",\"30\",\"27\",\"33\",\"28\",\"37\",\"29\",\"34\",\"31\",\"32\",\"35\",\"38\",\"42\",\"48\",\"54\",\"39\",\"40\",\"36\",\"43\",\"55\",\"58\",\"45\",\"51\",\"44\",\"47\",\"46\",\"50\",\"53\",\"41\",\"57\",\"49\",\"52\",\"56\",\"59\",\"60\"]},\"selected\":{\"id\":\"1279\"},\"selection_policy\":{\"id\":\"1301\"}},\"id\":\"1278\",\"type\":\"ColumnDataSource\"},{\"attributes\":{},\"id\":\"1287\",\"type\":\"AllLabels\"},{\"attributes\":{},\"id\":\"1256\",\"type\":\"LinearScale\"},{\"attributes\":{\"margin\":[5,5,5,5],\"name\":\"HSpacer01933\",\"sizing_mode\":\"stretch_width\"},\"id\":\"1313\",\"type\":\"Spacer\"},{\"attributes\":{\"callback\":null,\"renderers\":[{\"id\":\"1284\"}],\"tags\":[\"hv_created\"],\"tooltips\":[[\"Duration (Seconds)\",\"@{Duration_left_parenthesis_Seconds_right_parenthesis}\"],[\"Count\",\"@{Count}\"]]},\"id\":\"1248\",\"type\":\"HoverTool\"},{\"attributes\":{\"below\":[{\"id\":\"1258\"}],\"center\":[{\"id\":\"1260\"},{\"id\":\"1264\"}],\"height\":300,\"left\":[{\"id\":\"1261\"}],\"margin\":[5,5,5,5],\"min_border_bottom\":10,\"min_border_left\":10,\"min_border_right\":10,\"min_border_top\":10,\"renderers\":[{\"id\":\"1284\"}],\"sizing_mode\":\"fixed\",\"title\":{\"id\":\"1250\"},\"toolbar\":{\"id\":\"1271\"},\"width\":700,\"x_range\":{\"id\":\"1246\"},\"x_scale\":{\"id\":\"1254\"},\"y_range\":{\"id\":\"1247\"},\"y_scale\":{\"id\":\"1256\"}},\"id\":\"1249\",\"subtype\":\"Figure\",\"type\":\"Plot\"},{\"attributes\":{\"factors\":[\"5\",\"6\",\"7\",\"8\",\"9\",\"10\",\"12\",\"11\",\"14\",\"13\",\"15\",\"16\",\"17\",\"20\",\"18\",\"19\",\"21\",\"22\",\"24\",\"23\",\"25\",\"26\",\"30\",\"27\",\"33\",\"28\",\"37\",\"29\",\"34\",\"31\",\"32\",\"35\",\"38\",\"42\",\"48\",\"54\",\"39\",\"40\",\"36\",\"43\",\"55\",\"58\",\"45\",\"51\",\"44\",\"47\",\"46\",\"50\",\"53\",\"41\",\"57\",\"49\",\"52\",\"56\",\"59\",\"60\"],\"tags\":[[[\"Duration (Seconds)\",\"Duration (Seconds)\",null]]]},\"id\":\"1246\",\"type\":\"FactorRange\"},{\"attributes\":{},\"id\":\"1254\",\"type\":\"CategoricalScale\"},{\"attributes\":{\"end\":1288.0,\"reset_end\":1288.0,\"reset_start\":0.0,\"tags\":[[[\"Count\",\"Count\",null]]]},\"id\":\"1247\",\"type\":\"Range1d\"}],\"root_ids\":[\"1244\"]},\"title\":\"Bokeh Application\",\"version\":\"2.3.1\"}};\n",
       "    var render_items = [{\"docid\":\"3bf7585f-36dc-4777-91a6-957860fdbba5\",\"root_ids\":[\"1244\"],\"roots\":{\"1244\":\"c0d531f5-0cbd-409b-bee8-7b6cb86a71f9\"}}];\n",
       "    root.Bokeh.embed.embed_items_notebook(docs_json, render_items);\n",
       "  }\n",
       "  if (root.Bokeh !== undefined && root.Bokeh.Panel !== undefined) {\n",
       "    embed_document(root);\n",
       "  } else {\n",
       "    var attempts = 0;\n",
       "    var timer = setInterval(function(root) {\n",
       "      if (root.Bokeh !== undefined && root.Bokeh.Panel !== undefined) {\n",
       "        clearInterval(timer);\n",
       "        embed_document(root);\n",
       "      } else if (document.readyState == \"complete\") {\n",
       "        attempts++;\n",
       "        if (attempts > 100) {\n",
       "          clearInterval(timer);\n",
       "          console.log(\"Bokeh: ERROR: Unable to run BokehJS code because BokehJS library is missing\");\n",
       "        }\n",
       "      }\n",
       "    }, 10, root)\n",
       "  }\n",
       "})(window);</script>"
      ],
      "text/plain": [
       ":Bars   [Duration (Seconds)]   (Count)"
      ]
     },
     "execution_count": 136,
     "metadata": {
      "application/vnd.holoviews_exec.v0+json": {
       "id": "1244"
      }
     },
     "output_type": "execute_result"
    }
   ],
   "source": [
    "over_5_seconds.hvplot.bar(x='Duration (Seconds)',y=\"Count\", color=\"green\",legend=True,title=\"Users Avg Time Inside Geofence over 5 Seconds\")"
   ]
  },
  {
   "cell_type": "markdown",
   "id": "entitled-cedar",
   "metadata": {
    "papermill": {
     "duration": 0.040783,
     "end_time": "2021-07-01T14:49:18.488782",
     "exception": false,
     "start_time": "2021-07-01T14:49:18.447999",
     "status": "completed"
    },
    "tags": []
   },
   "source": [
    "* Now that we have some qualitative data, let's look where most users reside. "
   ]
  },
  {
   "cell_type": "markdown",
   "id": "hazardous-chemical",
   "metadata": {
    "papermill": {
     "duration": 0.042311,
     "end_time": "2021-07-01T14:49:19.330776",
     "exception": false,
     "start_time": "2021-07-01T14:49:19.288465",
     "status": "completed"
    },
    "tags": []
   },
   "source": [
    "# User Duration Distribution\n",
    "__________________"
   ]
  },
  {
   "cell_type": "code",
   "execution_count": null,
   "id": "6c97363c",
   "metadata": {},
   "outputs": [],
   "source": [
    "# Create Distribution charts for both over and under 5 second durations"
   ]
  },
  {
   "cell_type": "code",
   "execution_count": 142,
   "id": "1da53e47",
   "metadata": {},
   "outputs": [
    {
     "data": {
      "text/plain": [
       "[Text(0.5, 1.0, 'Users Avg Time Inside Geofence under 5 Seconds'),\n",
       " Text(0.5, 0, 'Duration (Seconds)'),\n",
       " Text(0, 0.5, 'Count')]"
      ]
     },
     "execution_count": 142,
     "metadata": {},
     "output_type": "execute_result"
    },
    {
     "data": {
      "image/png": "[encoded data removed]",
      "text/plain": [
       "<Figure size 1728x864 with 1 Axes>"
      ]
     },
     "metadata": {
      "needs_background": "light"
     },
     "output_type": "display_data"
    }
   ],
   "source": [
    "# Create swarmplot to show distribution\n",
    "plt.figure(figsize=(24,12))\n",
    "duration_distribution = sns.swarmplot(x = under_5_sec[\"Duration (Seconds)\"], y = under_5_sec[\"Count\"],size=25)\n",
    "duration_distribution.set(title = 'Users Avg Time Inside Geofence under 5 Seconds', xlabel = 'Duration (Seconds)', ylabel = 'Count')"
   ]
  },
  {
   "cell_type": "code",
   "execution_count": 145,
   "id": "a7aa96d2",
   "metadata": {},
   "outputs": [
    {
     "data": {
      "text/plain": [
       "[Text(0.5, 1.0, 'Users Avg Time Inside Geofence over 5 Seconds'),\n",
       " Text(0.5, 0, 'Duration (Seconds)'),\n",
       " Text(0, 0.5, 'Count')]"
      ]
     },
     "execution_count": 145,
     "metadata": {},
     "output_type": "execute_result"
    },
    {
     "data": {
      "image/png": "[encoded data removed]",
      "text/plain": [
       "<Figure size 1728x864 with 1 Axes>"
      ]
     },
     "metadata": {
      "needs_background": "light"
     },
     "output_type": "display_data"
    }
   ],
   "source": [
    "plt.figure(figsize=(24,12))\n",
    "duration_distribution = sns.swarmplot(x = over_5_seconds[\"Duration (Seconds)\"], y = over_5_seconds[\"Count\"],size=15)\n",
    "duration_distribution.set(title = 'Users Avg Time Inside Geofence over 5 Seconds', xlabel = 'Duration (Seconds)', ylabel = 'Count')"
   ]
  },
  {
   "cell_type": "code",
   "execution_count": null,
   "id": "8e3f46d6",
   "metadata": {},
   "outputs": [],
   "source": []
  },
  {
   "cell_type": "code",
   "execution_count": null,
   "id": "67668a24",
   "metadata": {},
   "outputs": [],
   "source": []
  }
 ],
 "metadata": {
  "kernelspec": {
   "display_name": "Python 3",
   "language": "python",
   "name": "python3"
  },
  "language_info": {
   "codemirror_mode": {
    "name": "ipython",
    "version": 3
   },
   "file_extension": ".py",
   "mimetype": "text/x-python",
   "name": "python",
   "nbconvert_exporter": "python",
   "pygments_lexer": "ipython3",
   "version": "3.7.10"
  },
  "papermill": {
   "default_parameters": {},
   "duration": 808.277791,
   "end_time": "2021-07-01T14:52:51.215095",
   "environment_variables": {},
   "exception": null,
   "input_path": "__notebook__.ipynb",
   "output_path": "__notebook__.ipynb",
   "parameters": {},
   "start_time": "2021-07-01T14:39:22.937304",
   "version": "2.3.3"
  }
 },
 "nbformat": 4,
 "nbformat_minor": 5
}
